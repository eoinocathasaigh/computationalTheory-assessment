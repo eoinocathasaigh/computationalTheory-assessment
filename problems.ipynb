{
 "cells": [
  {
   "cell_type": "markdown",
   "id": "f31c8f9a",
   "metadata": {},
   "source": [
    "# Computational Theory Problems - Eoin Ocathasaigh"
   ]
  },
  {
   "cell_type": "code",
   "execution_count": 1,
   "id": "6422fd9c",
   "metadata": {},
   "outputs": [],
   "source": [
    "#Importing all necessary imports/libraries\n",
    "import numpy as np\n",
    "import sympy"
   ]
  },
  {
   "cell_type": "markdown",
   "id": "3d969cb1",
   "metadata": {},
   "source": [
    "## Problem 1: Binary Words & Operations"
   ]
  },
  {
   "cell_type": "markdown",
   "id": "ffa7ab95",
   "metadata": {},
   "source": [
    "The following methods and functions are used throughout the solution\n",
    "<br>\n",
    "<b>np.uint32</b> - this just ensures that whatever int we are dealing with in the operations is being treated as a 32 bit int\n",
    "<br>\n",
    "<b>Parity</b> - "
   ]
  },
  {
   "cell_type": "code",
   "execution_count": 2,
   "id": "f009d78e",
   "metadata": {},
   "outputs": [
    {
     "name": "stdout",
     "output_type": "stream",
     "text": [
      "0xed00bb90\n",
      "0x3e67b715\n",
      "0x3a6fe667\n",
      "0xce20b47e\n",
      "0x55b65510\n",
      "0xba0cf582\n",
      "0xcfe5da3c\n"
     ]
    }
   ],
   "source": [
    "#Code area for problem 1 - different implementations of the various methods\n",
    "\n",
    "#Parity method\n",
    "#Follows the formula - x ^ y ^ z (np.uint32)\n",
    "def Parity(x: np.uint32, y: np.uint32, z: np.uint32):\n",
    "\n",
    "    \"Performs & returns the result of the parity function - compares the bits amongst all the words and will return true exclusively IF one condition is true\"\n",
    "    \"Will return 0 if both are a 1 or 0, and will return a 1 if one value is a 1\"\n",
    "    \"np.uint32 is used here to ensure all variables are treated as 32 bit integers\"\n",
    "    \"^ is the symbol in python denoting the XOR operation - Each bit is compared; if one is 1 and the other is 0, the result is 1\"\n",
    "    \"Returns overall result after comparrison\"\n",
    "\n",
    "    x = np.uint32(x)\n",
    "    y = np.uint32(y)\n",
    "    z = np.uint32(z)\n",
    "    return np.uint32(x ^ y ^ z)\n",
    "\n",
    "#Ch method\n",
    "#Uses the formula - (x & y) ^ (~x & z)\n",
    "def ch(x, y, z):\n",
    "    \"Retruns the result of another comparrison across the 3 ints - while utilizing the XOR as seen previously and the AND operation with the NOT operation\"\n",
    "    \"Singular & represents AND bitwise AND between ints - Each bit is compared; if both are 1, the result is 1. Otherwise, it is 0\"\n",
    "    \"Tilde ~ represents bitwise NOT operator - Inverts all bits: 0 becomes 1 and 1 becomes 0\"\n",
    "    \"Similar reuse of the n.uint32 method to ensure values are treated as 32 bit ints\"\n",
    "    \"Returns the overall result of comparrison\"\n",
    "\n",
    "    return np.uint32(np.uint32(x & y) ^ np.uint(~x & z))\n",
    "\n",
    "#Maj Method\n",
    "#Similar to the previous 2 methods, only this time it uses the XOR operator & AND to compare all 3 combinations\n",
    "#Finds the majority\n",
    "#Follows this basic formula - (x & y) ^ (x & z) ^ (y & z)\n",
    "def maj(x, y, z):\n",
    "    x = np.uint32(x)\n",
    "    y = np.uint32(y)\n",
    "    z = np.uint32(z)\n",
    "    return np.uint32(np.uint32(x & y) ^ np.uint32(x & z) ^ np.uint32(y & z))\n",
    "\n",
    "#Method to help with the shifting -> Rotation\n",
    "#Follows the formula - (x >> n) | (x << (w - n))\n",
    "#X is the value we wish to shift, n is the units or bits we wish to shift it by and W is the bit length we will be working with\n",
    "def ROTR(x, unitShift):\n",
    "    #I do this to make sure that the number is treated as a 32 bit integer\n",
    "    #Also so I dont have to keep writing np.uint32()\n",
    "    #We use the 32 as we know that we are working with 32 bit integers, we also use the ending part of | (x << (32 - unitShift))) to prevent the loss of bits - removed the blank 0 spaces\n",
    "    x = np.uint32(x)\n",
    "    return ((x >> unitShift) | (x << (32 - unitShift)))\n",
    "\n",
    "#Right shift operation\n",
    "#All it does is shift the bits to the right by the unitShift value\n",
    "def SHR(x, unitShift):\n",
    "    x = np.uint32(x)\n",
    "    return (x >> unitShift)\n",
    "\n",
    "#SIGMA METHODS\n",
    "#This method uses the ROTR method to rotate the bits by a certain amount\n",
    "#It then uses the XOR operator to compare the bits & return the result\n",
    "def Sigma0(x):\n",
    "    x = np.uint32(x)\n",
    "    return np.uint32(ROTR(x, 2) ^ ROTR(x, 13) ^ ROTR(x, 22))\n",
    "\n",
    "def Sigma1(x):\n",
    "    x = np.uint32(x)\n",
    "    return np.uint32(ROTR(x, 6) ^ ROTR(x, 11) ^ ROTR(x, 25))\n",
    "\n",
    "#The following 2 methods use the SHR method which from what I understand it just performs the same operation as shifting to the right\n",
    "#They just do it with different sets of data\n",
    "def sigma0(x):\n",
    "    x = np.uint32(x)\n",
    "    return np.uint32(ROTR(x, 7) ^ ROTR(x, 18) ^ SHR(x, 3))\n",
    "\n",
    "def sigma1(x):\n",
    "    x = np.uint32(x)\n",
    "    return np.uint32(ROTR(x, 17) ^ ROTR(x, 19) ^ SHR(x, 10))\n",
    "\n",
    "\n",
    "#Testing the various methods \n",
    "x = 0x6a09e667 \n",
    "y = 0xbb67ae85 \n",
    "z = 0x3c6ef372 \n",
    "print(hex(Parity(x, y, z)))\n",
    "print(hex(ch(x, y, z)))\n",
    "print(hex(maj(x, y, z)))\n",
    "#Testing the sigma methods\n",
    "print(hex(Sigma0(x)))\n",
    "print(hex(Sigma1(x)))\n",
    "print(hex(sigma0(x)))\n",
    "print(hex(sigma1(x)))\n",
    "\n",
    "# 0xed00bb90\n",
    "# 0x3e67b715"
   ]
  },
  {
   "cell_type": "markdown",
   "id": "42120afb",
   "metadata": {},
   "source": [
    "## Problem 2: Factorial Parts of Cube Roots"
   ]
  },
  {
   "cell_type": "code",
   "execution_count": null,
   "id": "79ac1e73",
   "metadata": {},
   "outputs": [
    {
     "name": "stdout",
     "output_type": "stream",
     "text": [
      "[2, 3, 5, 7, 11]\n"
     ]
    }
   ],
   "source": [
    "# Using numpy to find the fractional part of the cube root of the first n primes\n",
    "\n",
    "#Function for generating the first n prime numbers\n",
    "def primes(n):\n",
    "    #Variables for handling the list of primes and potential primes\n",
    "    primeList = []\n",
    "    possiblePrime = 2;\n",
    "\n",
    "    #Need to begin a loop to execute until we have the desired number of primes\n",
    "    while len(primeList) < n:\n",
    "        #We check to see if the current prime is actually a prime - hence using the isprime method\n",
    "        if sympy.isprime(possiblePrime):\n",
    "            #If it is then we append it onto the list of primes to be returned to the user\n",
    "            primeList.append(possiblePrime)\n",
    "        #We then increment the possible prime number\n",
    "        possiblePrime += 1\n",
    "\n",
    "    #We then just return the list of primes\n",
    "    return primeList\n",
    "\n",
    "print(primes(5))"
   ]
  },
  {
   "cell_type": "markdown",
   "id": "cc01969b",
   "metadata": {},
   "source": [
    "## Problem 3: Padding"
   ]
  },
  {
   "cell_type": "code",
   "execution_count": 16,
   "id": "29378f01",
   "metadata": {},
   "outputs": [],
   "source": [
    "#Writting a \"generator function\" from sections 5.1.1 & 5.2.1 of secure hash standard to process messages"
   ]
  },
  {
   "cell_type": "markdown",
   "id": "056c03dd",
   "metadata": {},
   "source": [
    "## Problem 4: Hashes"
   ]
  },
  {
   "cell_type": "code",
   "execution_count": 17,
   "id": "1d5a1942",
   "metadata": {},
   "outputs": [],
   "source": [
    "#Method to calculate/discover the next hash value when provided with the current one and the message \"block\""
   ]
  },
  {
   "cell_type": "markdown",
   "id": "4b09c319",
   "metadata": {},
   "source": [
    "## Problem 5: Passwords"
   ]
  },
  {
   "cell_type": "code",
   "execution_count": 18,
   "id": "90f13c1d",
   "metadata": {},
   "outputs": [],
   "source": [
    "#Decyphering the 3 passwords from the SHA and discussing how I found them as well as thinking of ways to improve the hashing standard"
   ]
  }
 ],
 "metadata": {
  "kernelspec": {
   "display_name": "Python 3",
   "language": "python",
   "name": "python3"
  },
  "language_info": {
   "codemirror_mode": {
    "name": "ipython",
    "version": 3
   },
   "file_extension": ".py",
   "mimetype": "text/x-python",
   "name": "python",
   "nbconvert_exporter": "python",
   "pygments_lexer": "ipython3",
   "version": "3.12.1"
  }
 },
 "nbformat": 4,
 "nbformat_minor": 5
}
