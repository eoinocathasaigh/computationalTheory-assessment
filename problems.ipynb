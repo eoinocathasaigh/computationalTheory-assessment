{
 "cells": [
  {
   "cell_type": "markdown",
   "id": "f31c8f9a",
   "metadata": {},
   "source": [
    "# Computational Theory Problems - Eoin Ocathasaigh"
   ]
  },
  {
   "cell_type": "code",
   "execution_count": 16,
   "id": "6422fd9c",
   "metadata": {},
   "outputs": [],
   "source": [
    "import numpy as np"
   ]
  },
  {
   "cell_type": "markdown",
   "id": "3d969cb1",
   "metadata": {},
   "source": [
    "## Problem 1: Binary Words & Operations"
   ]
  },
  {
   "cell_type": "code",
   "execution_count": 24,
   "id": "f009d78e",
   "metadata": {},
   "outputs": [
    {
     "name": "stdout",
     "output_type": "stream",
     "text": [
      "Parity working correctly\n",
      "ch working correctly\n",
      "Maj working correctly\n"
     ]
    }
   ],
   "source": [
    "#Code area for problem 1 - different implementations of the various methods\n",
    "\n",
    "#Parity method\n",
    "def Parity(x, y, z):\n",
    "    print(\"Parity working correctly\")\n",
    "    pass\n",
    "\n",
    "#Ch method\n",
    "def ch(x, y, z):\n",
    "    print(\"ch working correctly\")\n",
    "    pass\n",
    "\n",
    "#Maj Method\n",
    "def maj(x, y, z):\n",
    "    print(\"Maj working correctly\")\n",
    "    pass\n",
    "\n",
    "Parity(5, 4, 3)\n",
    "ch(5, 4, 3)\n",
    "maj(5, 4, 3)"
   ]
  },
  {
   "cell_type": "markdown",
   "id": "42120afb",
   "metadata": {},
   "source": [
    "## Problem 2: Factorial Parts of Cube Roots"
   ]
  },
  {
   "cell_type": "code",
   "execution_count": 18,
   "id": "79ac1e73",
   "metadata": {},
   "outputs": [
    {
     "name": "stdout",
     "output_type": "stream",
     "text": [
      "works\n"
     ]
    }
   ],
   "source": [
    "# Using numpy to calculate the constants in the secure hash standard\n",
    "print(\"works\")"
   ]
  },
  {
   "cell_type": "markdown",
   "id": "cc01969b",
   "metadata": {},
   "source": [
    "## Problem 3: Padding"
   ]
  },
  {
   "cell_type": "code",
   "execution_count": 19,
   "id": "29378f01",
   "metadata": {},
   "outputs": [],
   "source": [
    "#Writting a \"generator function\" from sections 5.1.1 & 5.2.1 of secure hash standard to process messages"
   ]
  },
  {
   "cell_type": "markdown",
   "id": "056c03dd",
   "metadata": {},
   "source": [
    "## Problem 4: Hashes"
   ]
  },
  {
   "cell_type": "code",
   "execution_count": 20,
   "id": "1d5a1942",
   "metadata": {},
   "outputs": [],
   "source": [
    "#Method to calculate/discover the next hash value when provided with the current one and the message \"block\""
   ]
  },
  {
   "cell_type": "markdown",
   "id": "4b09c319",
   "metadata": {},
   "source": [
    "## Problem 5: Passwords"
   ]
  },
  {
   "cell_type": "code",
   "execution_count": 21,
   "id": "90f13c1d",
   "metadata": {},
   "outputs": [],
   "source": [
    "#Decyphering the 3 passwords from the SHA and discussing how I found them as well as thinking of ways to improve the hashing standard"
   ]
  }
 ],
 "metadata": {
  "kernelspec": {
   "display_name": "Python 3",
   "language": "python",
   "name": "python3"
  },
  "language_info": {
   "codemirror_mode": {
    "name": "ipython",
    "version": 3
   },
   "file_extension": ".py",
   "mimetype": "text/x-python",
   "name": "python",
   "nbconvert_exporter": "python",
   "pygments_lexer": "ipython3",
   "version": "3.12.1"
  }
 },
 "nbformat": 4,
 "nbformat_minor": 5
}
