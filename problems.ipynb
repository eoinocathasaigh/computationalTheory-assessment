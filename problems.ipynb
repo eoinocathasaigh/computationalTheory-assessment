{
 "cells": [
  {
   "cell_type": "markdown",
   "id": "f31c8f9a",
   "metadata": {},
   "source": [
    "# Computational Theory Problems - Eoin Ocathasaigh"
   ]
  },
  {
   "cell_type": "code",
   "execution_count": 2,
   "id": "6422fd9c",
   "metadata": {},
   "outputs": [],
   "source": [
    "#Importing all necessary imports/libraries\n",
    "import numpy as np"
   ]
  },
  {
   "cell_type": "markdown",
   "id": "3d969cb1",
   "metadata": {},
   "source": [
    "## Problem 1: Binary Words & Operations"
   ]
  },
  {
   "cell_type": "code",
   "execution_count": 3,
   "id": "f009d78e",
   "metadata": {},
   "outputs": [
    {
     "name": "stdout",
     "output_type": "stream",
     "text": [
      "0xed00bb90\n",
      "0x3e67b715\n",
      "0x3a6fe667\n",
      "0xce20b47e\n",
      "0x55b65510\n",
      "0xba0cf582\n",
      "0xcfe5da3c\n"
     ]
    }
   ],
   "source": [
    "#Code area for problem 1 - different implementations of the various methods\n",
    "\n",
    "#Parity method\n",
    "def Parity(x, y, z):\n",
    "    #x ^ y ^ z (np.uint32)\n",
    "    #This method uses the Bitwise XOR operator to compare various bits - i will return true exclusively IF one of the conditions is true\n",
    "    #Will return a 0 if it is false i.e. no match or multiple exist - causes fail\n",
    "    #Why use np.uint32() - this is to make sure that all variables are treated as 32 bit integers\n",
    "    #^ is the symbol in python denoting the XOR operation\n",
    "    return np.uint32(np.uint32(x) ^ np.uint32(y) ^ np.uint32(z))\n",
    "\n",
    "#Ch method\n",
    "def ch(x, y, z):\n",
    "    #This method is meant to use the AND operator as well as XOR to check the bits\n",
    "    #Singular & represents the AND operator\n",
    "    #This method also makes use of the Tilde \"~\" - bitwise NOT operator\n",
    "    #Like in the previous method we use the np.uint32() to make sure all variables are treated as 32 bit ints\n",
    "    return np.uint32(np.uint32(x & y) ^ np.uint(~x & z))\n",
    "\n",
    "#Maj Method\n",
    "#Similar to the previous 2 methods, only this time it uses the XOR operator & AND to compare all 3 combinations\n",
    "#Finds the majority\n",
    "#(x & y) ^ (x & z) ^ (y & z) — majority vote per bit.\n",
    "def maj(x, y, z):\n",
    "    x = np.uint32(x)\n",
    "    y = np.uint32(y)\n",
    "    z = np.uint32(z)\n",
    "    return np.uint32(np.uint32(x & y) ^ np.uint32(x & z) ^ np.uint32(y & z))\n",
    "\n",
    "#Method to help with the shifting -> Rotation\n",
    "def ROTR(x, unitShift):\n",
    "    #I do this to make sure that the number is treated as a 32 bit integer\n",
    "    #Also so I dont have to keep writing np.uint32()\n",
    "    #We use the 32 as we know that we are working with 32 bit integers\n",
    "    x = np.uint32(x)\n",
    "    return ((x >> unitShift) | (x << (32 - unitShift)))\n",
    "\n",
    "#Right shift operation\n",
    "#All it does is shift the bits to the right by the unitShift value\n",
    "def SHR(x, unitShift):\n",
    "    x = np.uint32(x)\n",
    "    return (x >> unitShift)\n",
    "\n",
    "#SIGMA METHODS\n",
    "#This method uses the ROTR method to rotate the bits by a certain amount\n",
    "#It then uses the XOR operator to compare the bits & return the result\n",
    "def Sigma0(x):\n",
    "    x = np.uint32(x)\n",
    "    return np.uint32(ROTR(x, 2) ^ ROTR(x, 13) ^ ROTR(x, 22))\n",
    "\n",
    "def Sigma1(x):\n",
    "    x = np.uint32(x)\n",
    "    return np.uint32(ROTR(x, 6) ^ ROTR(x, 11) ^ ROTR(x, 25))\n",
    "\n",
    "def sigma0(x):\n",
    "    x = np.uint32(x)\n",
    "    return np.uint32(ROTR(x, 7) ^ ROTR(x, 18) ^ SHR(x, 3))\n",
    "\n",
    "def sigma1(x):\n",
    "    x = np.uint32(x)\n",
    "    return np.uint32(ROTR(x, 17) ^ ROTR(x, 19) ^ SHR(x, 10))\n",
    "\n",
    "\n",
    "#Testing the various methods \n",
    "x = 0x6a09e667 \n",
    "y = 0xbb67ae85 \n",
    "z = 0x3c6ef372 \n",
    "print(hex(Parity(x, y, z)))\n",
    "print(hex(ch(x, y, z)))\n",
    "print(hex(maj(x, y, z)))\n",
    "#Testing the sigma methods\n",
    "print(hex(Sigma0(x)))\n",
    "print(hex(Sigma1(x)))\n",
    "print(hex(sigma0(x)))\n",
    "print(hex(sigma1(x)))"
   ]
  },
  {
   "cell_type": "markdown",
   "id": "42120afb",
   "metadata": {},
   "source": [
    "## Problem 2: Factorial Parts of Cube Roots"
   ]
  },
  {
   "cell_type": "code",
   "execution_count": 18,
   "id": "79ac1e73",
   "metadata": {},
   "outputs": [
    {
     "name": "stdout",
     "output_type": "stream",
     "text": [
      "works\n"
     ]
    }
   ],
   "source": [
    "# Using numpy to calculate the constants in the secure hash standard\n",
    "print(\"works\")"
   ]
  },
  {
   "cell_type": "markdown",
   "id": "cc01969b",
   "metadata": {},
   "source": [
    "## Problem 3: Padding"
   ]
  },
  {
   "cell_type": "code",
   "execution_count": 19,
   "id": "29378f01",
   "metadata": {},
   "outputs": [],
   "source": [
    "#Writting a \"generator function\" from sections 5.1.1 & 5.2.1 of secure hash standard to process messages"
   ]
  },
  {
   "cell_type": "markdown",
   "id": "056c03dd",
   "metadata": {},
   "source": [
    "## Problem 4: Hashes"
   ]
  },
  {
   "cell_type": "code",
   "execution_count": 20,
   "id": "1d5a1942",
   "metadata": {},
   "outputs": [],
   "source": [
    "#Method to calculate/discover the next hash value when provided with the current one and the message \"block\""
   ]
  },
  {
   "cell_type": "markdown",
   "id": "4b09c319",
   "metadata": {},
   "source": [
    "## Problem 5: Passwords"
   ]
  },
  {
   "cell_type": "code",
   "execution_count": 21,
   "id": "90f13c1d",
   "metadata": {},
   "outputs": [],
   "source": [
    "#Decyphering the 3 passwords from the SHA and discussing how I found them as well as thinking of ways to improve the hashing standard"
   ]
  }
 ],
 "metadata": {
  "kernelspec": {
   "display_name": "Python 3",
   "language": "python",
   "name": "python3"
  },
  "language_info": {
   "codemirror_mode": {
    "name": "ipython",
    "version": 3
   },
   "file_extension": ".py",
   "mimetype": "text/x-python",
   "name": "python",
   "nbconvert_exporter": "python",
   "pygments_lexer": "ipython3",
   "version": "3.12.1"
  }
 },
 "nbformat": 4,
 "nbformat_minor": 5
}
